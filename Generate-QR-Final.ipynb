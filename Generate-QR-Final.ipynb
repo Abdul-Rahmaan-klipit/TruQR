{
 "cells": [
  {
   "cell_type": "markdown",
   "id": "16c02e63-bab0-41d5-af96-7686816aa835",
   "metadata": {},
   "source": [
    "### Generating the QR"
   ]
  },
  {
   "cell_type": "code",
   "execution_count": 2,
   "id": "c4b7a4a1-ccf6-4a21-8388-6ea7fefa8cae",
   "metadata": {},
   "outputs": [],
   "source": [
    "import qrcode\n",
    "qr = qrcode.QRCode(\n",
    "        version=1,\n",
    "        error_correction=qrcode.constants.ERROR_CORRECT_L,\n",
    "        box_size=1,\n",
    "        border=1,\n",
    "    )\n",
    "    \n",
    "qr.add_data(\"8j#hgj*8\")\n",
    "\n",
    "qr.make(fit=True)\n",
    "\n",
    "img = qr.make_image(fill_color=\"black\", back_color=\"white\")\n",
    "img1 = img.convert(\"RGB\")\n",
    "\n",
    "img1.save('resources/output/inner_qr.png')\n",
    "\n",
    "img1.show() "
   ]
  },
  {
   "cell_type": "code",
   "execution_count": 3,
   "id": "1bcd7b2a-e156-491c-b5d4-2036971ac37c",
   "metadata": {},
   "outputs": [],
   "source": [
    "from PIL import Image\n",
    "image = Image.open('resources/output/inner_qr.png')\n",
    "enc_array = list(image.getdata())"
   ]
  },
  {
   "cell_type": "markdown",
   "id": "22872015-f369-4c33-a9e7-b36a40f00c93",
   "metadata": {},
   "source": [
    "### Shuffling the QR"
   ]
  },
  {
   "cell_type": "code",
   "execution_count": 4,
   "id": "51cced7c-b982-40fc-b354-c63a82e0907f",
   "metadata": {},
   "outputs": [],
   "source": [
    "import random\n",
    "def shuffle_under_seed(ls, seed):\n",
    "    random.seed(seed)\n",
    "    random.shuffle(ls)\n",
    "    return ls"
   ]
  },
  {
   "cell_type": "code",
   "execution_count": 6,
   "id": "f764bb71-8bf7-4ed3-b9df-98bd2b3060cd",
   "metadata": {},
   "outputs": [],
   "source": [
    "original_list = enc_array\n",
    "seed = 42\n",
    "shuffled = shuffle_under_seed(original_list.copy(), seed)"
   ]
  },
  {
   "cell_type": "code",
   "execution_count": 7,
   "id": "fbc819ec-4981-4ca5-af2c-41379e967669",
   "metadata": {},
   "outputs": [],
   "source": [
    "from PIL import Image\n",
    "\n",
    "image = Image.new(\"RGB\", (23, 23))\n",
    "image.putdata(shuffled)\n",
    "image.show()\n",
    "image.save(\"resources/output/shuffled_inner_qr.png\")"
   ]
  },
  {
   "cell_type": "code",
   "execution_count": 8,
   "id": "eb462f54-b385-47d1-92d0-9a51f70db046",
   "metadata": {},
   "outputs": [],
   "source": [
    "image_1 = Image.open('resources/output/shuffled_inner_qr.png')"
   ]
  },
  {
   "cell_type": "code",
   "execution_count": 9,
   "id": "f13feca7-b9dc-40ae-b6a6-bac71295f777",
   "metadata": {},
   "outputs": [],
   "source": [
    "enc_array_1 = list(image_1.getdata())"
   ]
  },
  {
   "cell_type": "code",
   "execution_count": 10,
   "id": "29149044-b13e-4197-a3b0-f60792a0736f",
   "metadata": {
    "scrolled": true
   },
   "outputs": [],
   "source": [
    "def unshuffle_list(shuffled_ls, seed):\n",
    "    n = len(shuffled_ls)\n",
    "    indices = [i for i in range(1, n + 1)]\n",
    "    shuffled_indices = shuffle_under_seed(indices, seed)\n",
    "    zipped_ls = list(zip(shuffled_ls, shuffled_indices))\n",
    "    zipped_ls.sort(key=lambda x: x[1])\n",
    "    return [a for (a, b) in zipped_ls]"
   ]
  },
  {
   "cell_type": "markdown",
   "id": "308bf5b0-5d18-488e-8415-c94c48af81be",
   "metadata": {},
   "source": [
    "### Forming the formula to Deblur"
   ]
  },
  {
   "cell_type": "code",
   "execution_count": 11,
   "id": "7d3aa628-9c9b-406e-bf76-e407d90a9615",
   "metadata": {},
   "outputs": [
    {
     "name": "stdout",
     "output_type": "stream",
     "text": [
      "Original message: b'42'\n",
      "Encrypted message (ECB): b'\\x18\\xa4B\\xcc\\xb6\\x18\\x0fv$\\xa5\\xde+\\r\\xa1\\x97['\n",
      "Decrypted message (ECB): b'42'\n"
     ]
    }
   ],
   "source": [
    "from aes_cipher import DataEncrypter, DataDecrypter\n",
    "from Crypto.Util.Padding import pad, unpad\n",
    "from Crypto.Random import get_random_bytes\n",
    "from Crypto.Cipher import AES\n",
    "\n",
    "def adjust_password(password):\n",
    "    # Truncate or pad the password to 32 bytes (256 bits)\n",
    "    if len(password) > 32:\n",
    "        return password[:32]\n",
    "    elif len(password) < 32:\n",
    "        return password.ljust(32, b'\\x00')  # Padding with null bytes\n",
    "    return password\n",
    "\n",
    "def encrypt_AES_ECB(message, password):\n",
    "    password = adjust_password(password)\n",
    "    cipher = AES.new(password, AES.MODE_ECB)\n",
    "    padded_message = pad(message, AES.block_size)\n",
    "    encrypted_data = cipher.encrypt(padded_message)\n",
    "    return encrypted_data\n",
    "\n",
    "def decrypt_AES_ECB(encrypted_data, password):\n",
    "    password = adjust_password(password)\n",
    "    cipher = AES.new(password, AES.MODE_ECB)\n",
    "    decrypted_data = cipher.decrypt(encrypted_data)\n",
    "    unpadded_data = unpad(decrypted_data, AES.block_size)\n",
    "    return unpadded_data\n",
    "\n",
    "password = b\"supersecretpassword\"\n",
    "message = str(seed).encode()\n",
    "\n",
    "encrypted_message_ECB = encrypt_AES_ECB(message, password)\n",
    "\n",
    "decrypted_message_ECB = decrypt_AES_ECB(encrypted_message_ECB, password)\n",
    "\n",
    "print(\"Original message:\", message)\n",
    "print(\"Encrypted message (ECB):\", encrypted_message_ECB)\n",
    "print(\"Decrypted message (ECB):\", decrypted_message_ECB)"
   ]
  },
  {
   "cell_type": "markdown",
   "id": "8d090980-f8a0-4947-8ca7-6f656cd21db4",
   "metadata": {},
   "source": [
    "### Add border"
   ]
  },
  {
   "cell_type": "code",
   "execution_count": 15,
   "id": "ce7d97e5-150e-400f-a307-7aba1a5fcca5",
   "metadata": {},
   "outputs": [],
   "source": [
    "im = Image.open(\"resources/output/shuffled_inner_qr.png\")\n",
    "\n",
    "border = Image.open('resources/border.png')\n",
    "pos = ((border.size[0] - im.size[0]) // 2, (border.size[1] - im.size[1]) // 2)\n",
    "\n",
    "border.paste(im, pos)\n",
    "border.show()\n",
    "border.save('resources/output/border_with_inner_qr_1.png')"
   ]
  },
  {
   "cell_type": "markdown",
   "id": "5d6445b0-6242-4eaa-954e-4b5e40506d8d",
   "metadata": {},
   "source": [
    "### Encoding the Formula into the outer QR"
   ]
  },
  {
   "cell_type": "code",
   "execution_count": 16,
   "id": "233aad62-d4a7-45db-ba6a-b5f3e78581e7",
   "metadata": {},
   "outputs": [],
   "source": [
    "# Encrypt the message\n",
    "encrypted_message = encrypt_AES_ECB(message, password)\n",
    "# Decrypt the message\n",
    "decrypted_message = decrypt_AES_ECB(encrypted_message, password)"
   ]
  },
  {
   "cell_type": "code",
   "execution_count": 17,
   "id": "bc46d631-d9df-47f9-a0e5-e8ac68cb7b1f",
   "metadata": {},
   "outputs": [],
   "source": [
    "qr = qrcode.QRCode(\n",
    "        version=1,\n",
    "        error_correction=qrcode.constants.ERROR_CORRECT_H,\n",
    "        box_size=3,\n",
    "        border=1,\n",
    "    )\n",
    "    \n",
    "qr.add_data(str(encrypt_AES_ECB(message, password))[2:-1])\n",
    "# qr.add_data(result)\n",
    "# qr.make(fit=True)\n",
    "\n",
    "# print(enc)\n",
    "img = qr.make_image(fill_color=\"black\", back_color=\"white\").convert(\"RGB\")\n",
    "#img1 = img.convert(\"RGB\")\n",
    "img = img.resize((81,81))\n",
    "img.save('resources/output/outer_qr.png')\n",
    "\n",
    "img.show()"
   ]
  },
  {
   "cell_type": "markdown",
   "id": "3a050c5e-3b56-4dc1-9f8d-18b26abb7261",
   "metadata": {},
   "source": [
    "### Add Inner QR with border to Outer QR"
   ]
  },
  {
   "cell_type": "code",
   "execution_count": 21,
   "id": "fc9acba7-689a-4f09-9613-9f12531e4436",
   "metadata": {},
   "outputs": [],
   "source": [
    "im = Image.open(\"resources/output/border_with_inner_qr_1.png\").convert('L')\n",
    "\n",
    "border = Image.open('resources/output/outer_qr.png').convert('L')\n",
    "\n",
    "pos = ((border.size[0] - im.size[0]) // 2, (border.size[1] - im.size[1]) // 2)\n",
    "\n",
    "border.paste(im, pos)\n",
    "border.save('resources/output/outer_with_inner_qr_1.png')\n",
    "border.show()\n"
   ]
  },
  {
   "cell_type": "markdown",
   "id": "fbee757a-d309-49d3-b702-1d629d9a4393",
   "metadata": {},
   "source": [
    "### Reading the outer QR"
   ]
  },
  {
   "cell_type": "code",
   "execution_count": 22,
   "id": "6bab371d-67e1-433a-bc2e-6c72b6aa6681",
   "metadata": {},
   "outputs": [],
   "source": [
    "from qreader import QReader\n",
    "import cv2\n",
    "\n",
    "# Create a QReader instance\n",
    "qreader = QReader()\n",
    "\n",
    "# Get the image that contains the QR code\n",
    "image = cv2.cvtColor(cv2.imread(\"resources/output/outer_with_inner_qr_1.png\"), cv2.COLOR_BGR2RGB)\n",
    "\n",
    "# Use the detect_and_decode function to get the decoded QR data\n",
    "decoded_text = qreader.detect_and_decode(image=image)\n",
    "decoded_text[0]"
   ]
  },
  {
   "cell_type": "code",
   "execution_count": null,
   "id": "7d84fcd7-26b9-4a0a-b516-f501f051ca5a",
   "metadata": {},
   "outputs": [
    {
     "name": "stdout",
     "output_type": "stream",
     "text": [
      "The message was:  b'L\\x96'\n"
     ]
    }
   ],
   "source": [
    "try:\n",
    "    b64 = json.loads(temp)\n",
    "    nonce = b64decode(b64['nonce'])\n",
    "    ct = b64decode(b64['ciphertext'])\n",
    "    cipher = AES.new(key, AES.MODE_CTR, nonce=nonce)\n",
    "    pt = cipher.decrypt(ct)\n",
    "    print(\"The message was: \", pt)\n",
    "except (ValueError, KeyError):\n",
    "    print(\"Incorrect decryption\")"
   ]
  },
  {
   "cell_type": "code",
   "execution_count": null,
   "id": "f7d6964e-b4be-4eed-b5f3-0de8d2fa3a14",
   "metadata": {},
   "outputs": [],
   "source": [
    "from PIL import Image\n",
    "from pyzbar import pyzbar\n",
    "\n",
    "# img = Image.open('outer_with_inner_qr_1.png')\n",
    "img = Image.open(\"resources/output/outer_with_inner_qr_1.png\")\n",
    "output = pyzbar.decode(img)\n",
    "print(output)\n",
    "#text = str(output[0][0])\n",
    "str(output[0][0])[2:-1]\n",
    "# Replace \"\\\\\" with \"\\\"\n",
    "# text = text.replace('\\\\\\\\', '\\\\')\n",
    "#text\n",
    "# print(text)"
   ]
  },
  {
   "cell_type": "code",
   "execution_count": null,
   "id": "0c838ba0-f93c-4691-8bce-f5df62307421",
   "metadata": {},
   "outputs": [
    {
     "name": "stdout",
     "output_type": "stream",
     "text": [
      "The message was:  b'L\\x96'\n"
     ]
    }
   ],
   "source": [
    "try:\n",
    "    b64 = json.loads(str(output[0][0])[2:-1])\n",
    "    nonce = b64decode(b64['nonce'])\n",
    "    ct = b64decode(b64['ciphertext'])\n",
    "    cipher = AES.new(key, AES.MODE_CTR, nonce=nonce)\n",
    "    pt = cipher.decrypt(ct)\n",
    "    print(\"The message was: \", pt)\n",
    "except (ValueError, KeyError):\n",
    "    print(\"Incorrect decryption\")"
   ]
  },
  {
   "cell_type": "markdown",
   "id": "88401b81-39de-460c-b477-437d505db333",
   "metadata": {},
   "source": [
    "### Decoding the Encoded Formula"
   ]
  },
  {
   "cell_type": "code",
   "execution_count": 24,
   "id": "6f27b4bf-f3ac-4150-aa76-43ef0cbf8ad7",
   "metadata": {},
   "outputs": [
    {
     "name": "stdout",
     "output_type": "stream",
     "text": [
      "Decrypted message (ECB): b'42'\n"
     ]
    }
   ],
   "source": [
    "decrypted_message_ECB = decrypt_AES_ECB(encrypted_message_ECB, password)\n",
    "print(\"Decrypted message (ECB):\", decrypted_message_ECB)"
   ]
  },
  {
   "cell_type": "code",
   "execution_count": 25,
   "id": "89206cbf-a1b3-4681-8850-4912ff996a95",
   "metadata": {},
   "outputs": [
    {
     "data": {
      "text/plain": [
       "42"
      ]
     },
     "execution_count": 25,
     "metadata": {},
     "output_type": "execute_result"
    }
   ],
   "source": [
    "seed = int(str(decrypted_message_ECB)[2:-1])\n",
    "seed"
   ]
  },
  {
   "cell_type": "markdown",
   "id": "bd654ac8-a927-4839-9c85-57b9b58f90d6",
   "metadata": {},
   "source": [
    "### Cropping and Scaling the inner QR"
   ]
  },
  {
   "cell_type": "code",
   "execution_count": 26,
   "id": "2254b3b2-db1d-43e2-8cbb-4e6b565342cd",
   "metadata": {},
   "outputs": [],
   "source": [
    "from PIL import Image\n",
    "\n",
    "def crop_and_scale_image(image_path, top_pixels, bottom_pixels, left_pixels, right_pixels, scale_factor):\n",
    "    \n",
    "    image = Image.open(image_path)\n",
    "    \n",
    "    width, height = image.size\n",
    "    \n",
    "    cropped_image = image.crop((left_pixels, top_pixels, width - right_pixels, height - bottom_pixels))\n",
    "    \n",
    "    # new_width = int((width - left_pixels - right_pixels) * scale_factor)\n",
    "    # new_height = int((height - top_pixels - bottom_pixels) * scale_factor)\n",
    "    \n",
    "    # scaled_image = cropped_image.resize((new_width, new_height))\n",
    "    \n",
    "    # return scaled_image\n",
    "    return cropped_image\n",
    "\n",
    "image_path = 'resources/output/outer_with_inner_qr_1.png'\n",
    "top_pixels = 29\n",
    "bottom_pixels = 29\n",
    "left_pixels = 29\n",
    "right_pixels = 29\n",
    "scale_factor = 5\n",
    "\n",
    "scaled_image = crop_and_scale_image(image_path, top_pixels, bottom_pixels, left_pixels, right_pixels, scale_factor)\n",
    "\n",
    "scaled_image.show()\n",
    "scaled_image.save('resources/output/scaled_image.png')"
   ]
  },
  {
   "cell_type": "markdown",
   "id": "27fc8e55-2bb2-4ba0-8aec-581e57537f5a",
   "metadata": {},
   "source": [
    "### Using the formula to decode the inner QR"
   ]
  },
  {
   "cell_type": "code",
   "execution_count": 30,
   "id": "99debf6f-4f4c-47ec-8012-f4df75daef51",
   "metadata": {},
   "outputs": [],
   "source": [
    "image_temp = Image.open('resources/output/scaled_image.png').convert('RGB')\n",
    "enc_array_temp = list(image_temp.getdata())\n",
    "unshuffled = unshuffle_list(enc_array_temp, 42)"
   ]
  },
  {
   "cell_type": "code",
   "execution_count": 31,
   "id": "8bd5e566-7ceb-4713-ab08-07458e5426a6",
   "metadata": {},
   "outputs": [],
   "source": [
    "from PIL import Image\n",
    "\n",
    "# Create a new image with RGB mode\n",
    "image = Image.new(\"RGB\", (23, 23))\n",
    "\n",
    "# Set pixel values for the image\n",
    "image.putdata(unshuffled)\n",
    "\n",
    "# Save or display the image\n",
    "image.show()  # Display the image\n",
    "image.save(\"resources/output/final_output.png\")  # Save the image to a file"
   ]
  },
  {
   "cell_type": "markdown",
   "id": "3fd6d239-c722-401c-93e4-5a5bdd00ee32",
   "metadata": {},
   "source": [
    "### Reading the inner QR"
   ]
  },
  {
   "cell_type": "code",
   "execution_count": 32,
   "id": "af3a43b3-1a0f-43b6-8cde-fe2f754c31ac",
   "metadata": {},
   "outputs": [
    {
     "name": "stdout",
     "output_type": "stream",
     "text": [
      "8j#hgj*8\n"
     ]
    }
   ],
   "source": [
    "img_temp = Image.open('resources/output/final_output.png')\n",
    "output_temp = pyzbar.decode(img_temp)\n",
    "text_temp = str(output_temp[0][0])\n",
    "print(text_temp[2:-1])"
   ]
  },
  {
   "cell_type": "markdown",
   "id": "7720b637",
   "metadata": {},
   "source": [
    "### Detecting, Scanning and Processing the Physical QR"
   ]
  },
  {
   "cell_type": "code",
   "execution_count": null,
   "id": "f04374a8",
   "metadata": {},
   "outputs": [],
   "source": [
    "import cv2\n",
    "from qrdet import QRDetector\n",
    "\n",
    "def crop_ROI(img):\n",
    "    detector = QRDetector()\n",
    "    # image = cv2.imread(img)\n",
    "    detections = detector.detect(image=img, is_bgr=True)\n",
    "    if detections :\n",
    "        \n",
    "        g= detections[0]\n",
    "        quad= g['quad_xy']\n",
    "        dec=g['bbox_xyxy']\n",
    "\n",
    "        x= int(dec[0])\n",
    "        y= int(dec[1])\n",
    "        w= int(dec[2])\n",
    "        h= int(dec[3])\n",
    "        \n",
    "        cropped_img = img[y:h, x:w]\n",
    "        cv2.imshow('cropped', cropped_img)\n",
    "        return cropped_img\n",
    "    return None"
   ]
  },
  {
   "cell_type": "code",
   "execution_count": null,
   "id": "afb43867",
   "metadata": {},
   "outputs": [],
   "source": [
    "vid = cv2.VideoCapture('http://192.168.70.30:8080/video')\n",
    "# \n",
    "while(True): \n",
    "    ret, frame = vid.read() \n",
    "    frame=frame[500:1000,500:1000]\n",
    "    cv2.imshow('FRAME',frame)\n",
    "    k=cv2.waitKey(1) & 0xFF\n",
    "    if k== ord('y'): \n",
    "        gray = cv2.cvtColor(frame, cv2.COLOR_BGR2GRAY)\n",
    "        # thresh = 125\n",
    "        # im_bw = cv2.threshold(gray, thresh, 255, cv2.THRESH_BINARY)[1]\n",
    "        (thresh, im_bw) = cv2.threshold(gray, 128, 255, cv2.THRESH_BINARY | cv2.THRESH_OTSU)\n",
    "        print(thresh)\n",
    "        img= crop_ROI(im_bw)\n",
    "        cv2.imwrite('resources/captured/captured_qr.png',img)\n",
    "        if k== ord('a'): \n",
    "            break\n",
    "\n",
    "    elif k == ord(\"q\"):\n",
    "        break\n",
    "\n",
    "cv2.destroyAllWindows() \n",
    "vid.release()"
   ]
  },
  {
   "cell_type": "code",
   "execution_count": null,
   "id": "cfe3f681",
   "metadata": {},
   "outputs": [],
   "source": [
    "from PIL import Image\n",
    "\n",
    "def image_to_binary_image(image_path, threshold=100):\n",
    "  img = Image.open(image_path).convert('L')  # Convert to grayscale\n",
    "  binary_img = img.point(lambda p: 0 if p < threshold else 255)\n",
    "  return binary_img\n",
    "\n",
    "# Example usage\n",
    "binary_image = image_to_binary_image(\"resources/captured/resized_image.png\", threshold= 90)\n",
    "binary_image.save(\"resources/captured/binary_image.png\")\n",
    "binary_image.show()"
   ]
  },
  {
   "cell_type": "code",
   "execution_count": null,
   "id": "931f5c43",
   "metadata": {},
   "outputs": [],
   "source": [
    "img = Image.open(\"resources/captured/Captured_TruQR.png\").convert('RGB')\n",
    "resized_img = img.resize((79, 79), Image.LANCZOS)\n",
    "resized_img.save(\"resources/captured/resized_image.jpg\")\n",
    "resized_img.show()\n"
   ]
  },
  {
   "cell_type": "markdown",
   "id": "ec5be68a",
   "metadata": {},
   "source": [
    "### Check if TruQR has inner QR by detecting border"
   ]
  },
  {
   "cell_type": "code",
   "execution_count": null,
   "id": "ba733397",
   "metadata": {},
   "outputs": [],
   "source": [
    "import cv2\n",
    "import numpy as np\n",
    "\n",
    "# Read the image\n",
    "image = cv2.imread('resources/output/qr.png')\n",
    "\n",
    "# Convert the image to grayscale\n",
    "gray_image = cv2.cvtColor(image, cv2.COLOR_BGR2GRAY)\n",
    "# cv2.imshow('gray image',gray_image)\n",
    "# Apply GaussianBlur to reduce noise\n",
    "blurred_image = cv2.GaussianBlur(gray_image, (5, 5), 0)\n",
    "# cv2.imshow('blurred_image', blurred_image)\n",
    "# Perform edge detection using Canny\n",
    "canny_edges = cv2.Canny(blurred_image, 50, 150)\n",
    "# cv2.imshow('canny image',canny_edges)\n",
    "# Find contours\n",
    "contours, _ = cv2.findContours(canny_edges.copy(), cv2.RETR_EXTERNAL, cv2.CHAIN_APPROX_SIMPLE)\n",
    "\n",
    "# Define minimum contour area\n",
    "min_contour_area = 1000\n",
    "\n",
    "# Draw contours on the original image if contour area is greater than minimum\n",
    "for contour in contours:\n",
    "    contour_area = cv2.contourArea(contour)\n",
    "    if contour_area > min_contour_area:\n",
    "        cv2.drawContours(image, [contour], -1, (0, 255, 0), 2)\n",
    "        x,y,w,h = cv2.boundingRect(contour)\n",
    "        cv2.putText(image, str(w), (x,y - 10), cv2.FONT_HERSHEY_SIMPLEX, 0.9, (36,255,12), 2)\n",
    "        cv2.rectangle(image, (x, y), (x + w, y + h), (36,255,12), 1)\n",
    "\n",
    "cropped_img = image[y:y+h, x:x+w]\n",
    "\n",
    "# Display the result\n",
    "cv2.imshow('Contours', cropped_img)\n",
    "cv2.imwrite('resources/output/contour.png', cropped_img)\n",
    "cv2.waitKey(0)\n",
    "cv2.destroyAllWindows()"
   ]
  },
  {
   "cell_type": "markdown",
   "id": "3370f388",
   "metadata": {},
   "source": [
    "### Cryptographic Methods"
   ]
  },
  {
   "cell_type": "code",
   "execution_count": null,
   "id": "b090e5db",
   "metadata": {},
   "outputs": [],
   "source": [
    "import cryptocode\n",
    "myEncryptedMessage = cryptocode.encrypt(\"42\", \"password123\")\n",
    "print(myEncryptedMessage)\n",
    "import cryptocode\n",
    "myDecryptedMessage = cryptocode.decrypt(\"hrs=*AzYACoTnid5plcGg6zGvcw==*36obinSZpBx3jMG84sO0sw==*H2DUi3Vx5Gj07mqxwWFXSQ==\", \"password123\")\n",
    "print(myDecryptedMessage)\n",
    "key = get_random_bytes(16)\n",
    "def enc(data, key):\n",
    "    data = data.encode()\n",
    "\n",
    "    cipher = AES.new(key, AES.MODE_CFB)\n",
    "    ct_bytes = cipher.encrypt(data)\n",
    "    iv = b64encode(cipher.iv).decode('utf-8')\n",
    "    ct = b64encode(ct_bytes).decode('utf-8')\n",
    "    print('byte arr: ', ct_bytes, '\\nini vec: ',iv, '\\nciphertext: ', ct)\n",
    "    print()\n",
    "    return iv, ct\n",
    "def decrypt(iv, ct, key):\n",
    "    try:\n",
    "        iv = b64decode(iv)\n",
    "        ct = b64decode(ct)\n",
    "        cipher = AES.new(key, AES.MODE_CFB, iv=iv)\n",
    "        pt = cipher.decrypt(ct)\n",
    "        print(\"The message was: \", pt)\n",
    "    except (ValueError, KeyError):\n",
    "        print(\"Incorrect decryption\")\n",
    "n,c = enc('idk wht happens', key)\n",
    "decrypt(n,c,key)\n",
    "import json\n",
    "from base64 import b64encode\n",
    "from Crypto.Cipher import AES\n",
    "from Crypto.Random import get_random_bytes\n",
    "\n",
    "data = b\"12543\"\n",
    "key = b\"secret password \"\n",
    "cipher = AES.new(key, AES.MODE_CTR)\n",
    "ct_bytes = cipher.encrypt(data)\n",
    "nonce = b64encode(cipher.nonce).decode('utf-8')\n",
    "ct = b64encode(ct_bytes).decode('utf-8')\n",
    "result = json.dumps({'nonce':nonce, 'ciphertext':ct})\n",
    "print(result)\n",
    "import json\n",
    "from base64 import b64decode\n",
    "from Crypto.Cipher import AES\n",
    "\n",
    "# We assume that the key was securely shared beforehand\n",
    "try:\n",
    "    b64 = json.loads(result)\n",
    "    nonce = b64decode(b64['nonce'])\n",
    "    ct = b64decode(b64['ciphertext'])\n",
    "    cipher = AES.new(key, AES.MODE_CTR, nonce=nonce)\n",
    "    pt = cipher.decrypt(ct)\n",
    "    print(\"The message was: \", pt)\n",
    "except (ValueError, KeyError):\n",
    "    print(\"Incorrect decryption\")"
   ]
  }
 ],
 "metadata": {
  "kernelspec": {
   "display_name": "Python 3 (ipykernel)",
   "language": "python",
   "name": "python3"
  },
  "language_info": {
   "codemirror_mode": {
    "name": "ipython",
    "version": 3
   },
   "file_extension": ".py",
   "mimetype": "text/x-python",
   "name": "python",
   "nbconvert_exporter": "python",
   "pygments_lexer": "ipython3",
   "version": "3.9.18"
  }
 },
 "nbformat": 4,
 "nbformat_minor": 5
}
